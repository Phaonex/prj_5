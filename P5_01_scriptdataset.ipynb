{
 "cells": [
  {
   "cell_type": "code",
   "execution_count": 76,
   "outputs": [],
   "source": [
    "import os\n",
    "\n",
    "import pandas as pd\n",
    "import numpy as np\n",
    "import seaborn as sns\n",
    "import matplotlib.pyplot as plt"
   ],
   "metadata": {
    "collapsed": false,
    "pycharm": {
     "name": "#%%\n"
    }
   }
  },
  {
   "cell_type": "code",
   "execution_count": 77,
   "metadata": {
    "collapsed": true,
    "pycharm": {
     "name": "#%%\n"
    }
   },
   "outputs": [],
   "source": [
    "\n",
    "\n",
    "# provide a data folder with all the csv file to load extract transform and analyse it.\n",
    "# acquiring data sets\n",
    "customers = pd.read_csv(\"./data/customers.csv\")\n",
    "products = pd.read_csv(\"./data/products.csv\")\n",
    "transactions = pd.read_csv(\"./data/transactions.csv\")"
   ]
  },
  {
   "cell_type": "code",
   "execution_count": 78,
   "outputs": [
    {
     "data": {
      "text/plain": "<Figure size 1080x720 with 1 Axes>",
      "image/png": "[encoded data removed]"
     },
     "metadata": {},
     "output_type": "display_data"
    }
   ],
   "source": [
    "# plots configuration\n",
    "fig, ax = plt.subplots(figsize=(15, 10))\n",
    "sns.set_style(\"whitegrid\", {\"xtick.major.size\": 8, \"ytick.major.size\": 8})\n",
    "sns.set(rc={'figure.figsize': (11.7, 8.27)})"
   ],
   "metadata": {
    "collapsed": false,
    "pycharm": {
     "name": "#%%\n"
    }
   }
  },
  {
   "cell_type": "markdown",
   "source": [
    "#Initial Data analysis exploration.\n",
    "\n",
    "##Analysis of the dataset and its structures\n"
   ],
   "metadata": {
    "collapsed": false,
    "pycharm": {
     "name": "#%% md\n"
    }
   }
  },
  {
   "cell_type": "markdown",
   "source": [
    "**Displaying the first and last 5 row of Customers data set.**\n",
    "\n",
    "Getting to know more about its values with info and describe.\n",
    "\n",
    "Getting data type information. Its seams that it doesn't contain null values there is only a numerical value.\n",
    "\n",
    "This column **Birth** represent a year therefore it should be converted in date time.\n",
    "\n",
    "There is a clearly a category value on the sex column and client_id seams as identify that can be used for table\n",
    "interaction or join"
   ],
   "metadata": {
    "collapsed": false,
    "pycharm": {
     "name": "#%% md\n"
    }
   }
  },
  {
   "cell_type": "code",
   "execution_count": 79,
   "outputs": [
    {
     "name": "stdout",
     "output_type": "stream",
     "text": [
      "<class 'pandas.core.frame.DataFrame'>\n",
      "RangeIndex: 8623 entries, 0 to 8622\n",
      "Data columns (total 3 columns):\n",
      " #   Column     Non-Null Count  Dtype \n",
      "---  ------     --------------  ----- \n",
      " 0   client_id  8623 non-null   object\n",
      " 1   sex        8623 non-null   object\n",
      " 2   birth      8623 non-null   int64 \n",
      "dtypes: int64(1), object(2)\n",
      "memory usage: 202.2+ KB\n"
     ]
    }
   ],
   "source": [
    "customers.info()"
   ],
   "metadata": {
    "collapsed": false,
    "pycharm": {
     "name": "#%%\n"
    }
   }
  },
  {
   "cell_type": "markdown",
   "source": [
    "**The description show information about all its column in particular **Birth**\n",
    "\n",
    "The first and last 1970-01-01 00:00:00.000001929, 1970-01-01 00:00:00.000002004\n",
    "Seam to describe the non-recorded linux date time that would start from 1970 so that 1929 and not 1970 the min year\n",
    "\n",
    "* is and 2004 the max.\n",
    "* There are 76 years.\n",
    "* Top gender found is f"
   ],
   "metadata": {
    "collapsed": false,
    "pycharm": {
     "name": "#%% md\n"
    }
   }
  },
  {
   "cell_type": "code",
   "execution_count": 80,
   "outputs": [
    {
     "data": {
      "text/plain": "             birth\ncount  8623.000000\nmean   1978.280877\nstd      16.919535\nmin    1929.000000\n25%    1966.000000\n50%    1979.000000\n75%    1992.000000\nmax    2004.000000",
      "text/html": "<div>\n<style scoped>\n    .dataframe tbody tr th:only-of-type {\n        vertical-align: middle;\n    }\n\n    .dataframe tbody tr th {\n        vertical-align: top;\n    }\n\n    .dataframe thead th {\n        text-align: right;\n    }\n</style>\n<table border=\"1\" class=\"dataframe\">\n  <thead>\n    <tr style=\"text-align: right;\">\n      <th></th>\n      <th>birth</th>\n    </tr>\n  </thead>\n  <tbody>\n    <tr>\n      <th>count</th>\n      <td>8623.000000</td>\n    </tr>\n    <tr>\n      <th>mean</th>\n      <td>1978.280877</td>\n    </tr>\n    <tr>\n      <th>std</th>\n      <td>16.919535</td>\n    </tr>\n    <tr>\n      <th>min</th>\n      <td>1929.000000</td>\n    </tr>\n    <tr>\n      <th>25%</th>\n      <td>1966.000000</td>\n    </tr>\n    <tr>\n      <th>50%</th>\n      <td>1979.000000</td>\n    </tr>\n    <tr>\n      <th>75%</th>\n      <td>1992.000000</td>\n    </tr>\n    <tr>\n      <th>max</th>\n      <td>2004.000000</td>\n    </tr>\n  </tbody>\n</table>\n</div>"
     },
     "execution_count": 80,
     "metadata": {},
     "output_type": "execute_result"
    }
   ],
   "source": [
    "customers.describe()"
   ],
   "metadata": {
    "collapsed": false,
    "pycharm": {
     "name": "#%%\n"
    }
   }
  },
  {
   "cell_type": "markdown",
   "source": [
    "**Displaying the first and last 5 row of Products data set.**\n",
    "\n",
    "Getting to know more about its values with info and describe."
   ],
   "metadata": {
    "collapsed": false,
    "pycharm": {
     "name": "#%% md\n"
    }
   }
  },
  {
   "cell_type": "code",
   "execution_count": 81,
   "outputs": [
    {
     "data": {
      "text/plain": "  id_prod  price  categ\n0  0_1421  19.99      0\n1  0_1368   5.13      0\n2   0_731  17.99      0\n3   1_587   4.99      1\n4  0_1507   3.99      0",
      "text/html": "<div>\n<style scoped>\n    .dataframe tbody tr th:only-of-type {\n        vertical-align: middle;\n    }\n\n    .dataframe tbody tr th {\n        vertical-align: top;\n    }\n\n    .dataframe thead th {\n        text-align: right;\n    }\n</style>\n<table border=\"1\" class=\"dataframe\">\n  <thead>\n    <tr style=\"text-align: right;\">\n      <th></th>\n      <th>id_prod</th>\n      <th>price</th>\n      <th>categ</th>\n    </tr>\n  </thead>\n  <tbody>\n    <tr>\n      <th>0</th>\n      <td>0_1421</td>\n      <td>19.99</td>\n      <td>0</td>\n    </tr>\n    <tr>\n      <th>1</th>\n      <td>0_1368</td>\n      <td>5.13</td>\n      <td>0</td>\n    </tr>\n    <tr>\n      <th>2</th>\n      <td>0_731</td>\n      <td>17.99</td>\n      <td>0</td>\n    </tr>\n    <tr>\n      <th>3</th>\n      <td>1_587</td>\n      <td>4.99</td>\n      <td>1</td>\n    </tr>\n    <tr>\n      <th>4</th>\n      <td>0_1507</td>\n      <td>3.99</td>\n      <td>0</td>\n    </tr>\n  </tbody>\n</table>\n</div>"
     },
     "execution_count": 81,
     "metadata": {},
     "output_type": "execute_result"
    }
   ],
   "source": [
    "products.head()"
   ],
   "metadata": {
    "collapsed": false,
    "pycharm": {
     "name": "#%%\n"
    }
   }
  },
  {
   "cell_type": "code",
   "execution_count": 82,
   "outputs": [
    {
     "data": {
      "text/plain": "     id_prod   price  categ\n3282    2_23  115.99      2\n3283   0_146   17.14      0\n3284   0_802   11.22      0\n3285   1_140   38.56      1\n3286  0_1920   25.16      0",
      "text/html": "<div>\n<style scoped>\n    .dataframe tbody tr th:only-of-type {\n        vertical-align: middle;\n    }\n\n    .dataframe tbody tr th {\n        vertical-align: top;\n    }\n\n    .dataframe thead th {\n        text-align: right;\n    }\n</style>\n<table border=\"1\" class=\"dataframe\">\n  <thead>\n    <tr style=\"text-align: right;\">\n      <th></th>\n      <th>id_prod</th>\n      <th>price</th>\n      <th>categ</th>\n    </tr>\n  </thead>\n  <tbody>\n    <tr>\n      <th>3282</th>\n      <td>2_23</td>\n      <td>115.99</td>\n      <td>2</td>\n    </tr>\n    <tr>\n      <th>3283</th>\n      <td>0_146</td>\n      <td>17.14</td>\n      <td>0</td>\n    </tr>\n    <tr>\n      <th>3284</th>\n      <td>0_802</td>\n      <td>11.22</td>\n      <td>0</td>\n    </tr>\n    <tr>\n      <th>3285</th>\n      <td>1_140</td>\n      <td>38.56</td>\n      <td>1</td>\n    </tr>\n    <tr>\n      <th>3286</th>\n      <td>0_1920</td>\n      <td>25.16</td>\n      <td>0</td>\n    </tr>\n  </tbody>\n</table>\n</div>"
     },
     "execution_count": 82,
     "metadata": {},
     "output_type": "execute_result"
    }
   ],
   "source": [
    "products.tail()"
   ],
   "metadata": {
    "collapsed": false,
    "pycharm": {
     "name": "#%%\n"
    }
   }
  },
  {
   "cell_type": "markdown",
   "source": [
    "There is 2 numerical values here, *price and categ* but this last one is used as categorical value instead.\n",
    "\n",
    "The identified column here is clear id_prod an object.\n",
    "\n",
    "No null values to be founded here."
   ],
   "metadata": {
    "collapsed": false,
    "pycharm": {
     "name": "#%% md\n"
    }
   }
  },
  {
   "cell_type": "code",
   "execution_count": 83,
   "outputs": [
    {
     "name": "stdout",
     "output_type": "stream",
     "text": [
      "<class 'pandas.core.frame.DataFrame'>\n",
      "RangeIndex: 3287 entries, 0 to 3286\n",
      "Data columns (total 3 columns):\n",
      " #   Column   Non-Null Count  Dtype  \n",
      "---  ------   --------------  -----  \n",
      " 0   id_prod  3287 non-null   object \n",
      " 1   price    3287 non-null   float64\n",
      " 2   categ    3287 non-null   int64  \n",
      "dtypes: float64(1), int64(1), object(1)\n",
      "memory usage: 77.2+ KB\n"
     ]
    }
   ],
   "source": [
    "products.info()"
   ],
   "metadata": {
    "collapsed": false,
    "pycharm": {
     "name": "#%%\n"
    }
   }
  },
  {
   "cell_type": "markdown",
   "source": [
    " Here is described price and categ. what is here interesting to see is the min value of price -1.0\n",
    "and a max of 300.0.\n",
    "\n",
    "From categ the min, quartile and max seams to show only the possible values or unique values this can be confirm on\n",
    "the result below with the method *unique()*."
   ],
   "metadata": {
    "collapsed": false,
    "pycharm": {
     "name": "#%% md\n"
    }
   }
  },
  {
   "cell_type": "code",
   "execution_count": 84,
   "outputs": [
    {
     "data": {
      "text/plain": "             price        categ\ncount  3287.000000  3287.000000\nmean     21.856641     0.370246\nstd      29.847908     0.615387\nmin      -1.000000     0.000000\n25%       6.990000     0.000000\n50%      13.060000     0.000000\n75%      22.990000     1.000000\nmax     300.000000     2.000000",
      "text/html": "<div>\n<style scoped>\n    .dataframe tbody tr th:only-of-type {\n        vertical-align: middle;\n    }\n\n    .dataframe tbody tr th {\n        vertical-align: top;\n    }\n\n    .dataframe thead th {\n        text-align: right;\n    }\n</style>\n<table border=\"1\" class=\"dataframe\">\n  <thead>\n    <tr style=\"text-align: right;\">\n      <th></th>\n      <th>price</th>\n      <th>categ</th>\n    </tr>\n  </thead>\n  <tbody>\n    <tr>\n      <th>count</th>\n      <td>3287.000000</td>\n      <td>3287.000000</td>\n    </tr>\n    <tr>\n      <th>mean</th>\n      <td>21.856641</td>\n      <td>0.370246</td>\n    </tr>\n    <tr>\n      <th>std</th>\n      <td>29.847908</td>\n      <td>0.615387</td>\n    </tr>\n    <tr>\n      <th>min</th>\n      <td>-1.000000</td>\n      <td>0.000000</td>\n    </tr>\n    <tr>\n      <th>25%</th>\n      <td>6.990000</td>\n      <td>0.000000</td>\n    </tr>\n    <tr>\n      <th>50%</th>\n      <td>13.060000</td>\n      <td>0.000000</td>\n    </tr>\n    <tr>\n      <th>75%</th>\n      <td>22.990000</td>\n      <td>1.000000</td>\n    </tr>\n    <tr>\n      <th>max</th>\n      <td>300.000000</td>\n      <td>2.000000</td>\n    </tr>\n  </tbody>\n</table>\n</div>"
     },
     "execution_count": 84,
     "metadata": {},
     "output_type": "execute_result"
    }
   ],
   "source": [
    "products.describe()"
   ],
   "metadata": {
    "collapsed": false,
    "pycharm": {
     "name": "#%%\n"
    }
   }
  },
  {
   "cell_type": "code",
   "execution_count": 85,
   "outputs": [
    {
     "name": "stdout",
     "output_type": "stream",
     "text": [
      "unique categ values [0 1 2]\n"
     ]
    }
   ],
   "source": [
    "print(\"unique categ values\", products.categ.unique())"
   ],
   "metadata": {
    "collapsed": false,
    "pycharm": {
     "name": "#%%\n"
    }
   }
  },
  {
   "cell_type": "markdown",
   "source": [
    " **Displaying the first and last 5 row of Transaction data set.**\n",
    "\n",
    "Getting to know more about its values with info and describe."
   ],
   "metadata": {
    "collapsed": false,
    "pycharm": {
     "name": "#%% md\n"
    }
   }
  },
  {
   "cell_type": "code",
   "execution_count": 86,
   "outputs": [
    {
     "data": {
      "text/plain": "  id_prod                        date session_id client_id\n0  0_1483  2021-04-10 18:37:28.723910    s_18746    c_4450\n1   2_226  2022-02-03 01:55:53.276402   s_159142     c_277\n2   1_374  2021-09-23 15:13:46.938559    s_94290    c_4270\n3  0_2186  2021-10-17 03:27:18.783634   s_105936    c_4597\n4  0_1351  2021-07-17 20:34:25.800563    s_63642    c_1242",
      "text/html": "<div>\n<style scoped>\n    .dataframe tbody tr th:only-of-type {\n        vertical-align: middle;\n    }\n\n    .dataframe tbody tr th {\n        vertical-align: top;\n    }\n\n    .dataframe thead th {\n        text-align: right;\n    }\n</style>\n<table border=\"1\" class=\"dataframe\">\n  <thead>\n    <tr style=\"text-align: right;\">\n      <th></th>\n      <th>id_prod</th>\n      <th>date</th>\n      <th>session_id</th>\n      <th>client_id</th>\n    </tr>\n  </thead>\n  <tbody>\n    <tr>\n      <th>0</th>\n      <td>0_1483</td>\n      <td>2021-04-10 18:37:28.723910</td>\n      <td>s_18746</td>\n      <td>c_4450</td>\n    </tr>\n    <tr>\n      <th>1</th>\n      <td>2_226</td>\n      <td>2022-02-03 01:55:53.276402</td>\n      <td>s_159142</td>\n      <td>c_277</td>\n    </tr>\n    <tr>\n      <th>2</th>\n      <td>1_374</td>\n      <td>2021-09-23 15:13:46.938559</td>\n      <td>s_94290</td>\n      <td>c_4270</td>\n    </tr>\n    <tr>\n      <th>3</th>\n      <td>0_2186</td>\n      <td>2021-10-17 03:27:18.783634</td>\n      <td>s_105936</td>\n      <td>c_4597</td>\n    </tr>\n    <tr>\n      <th>4</th>\n      <td>0_1351</td>\n      <td>2021-07-17 20:34:25.800563</td>\n      <td>s_63642</td>\n      <td>c_1242</td>\n    </tr>\n  </tbody>\n</table>\n</div>"
     },
     "execution_count": 86,
     "metadata": {},
     "output_type": "execute_result"
    }
   ],
   "source": [
    "transactions.head()"
   ],
   "metadata": {
    "collapsed": false,
    "pycharm": {
     "name": "#%%\n"
    }
   }
  },
  {
   "cell_type": "code",
   "execution_count": 87,
   "outputs": [
    {
     "data": {
      "text/plain": "       id_prod                        date session_id client_id\n337011   1_671  2021-05-28 12:35:46.214839    s_40720    c_3454\n337012   0_759  2021-06-19 00:19:23.917703    s_50568    c_6268\n337013  0_1256  2021-03-16 17:31:59.442007     s_7219    c_4137\n337014   2_227  2021-10-30 16:50:15.997750   s_112349       c_5\n337015  0_1417  2021-06-26 14:38:19.732946    s_54117    c_6714",
      "text/html": "<div>\n<style scoped>\n    .dataframe tbody tr th:only-of-type {\n        vertical-align: middle;\n    }\n\n    .dataframe tbody tr th {\n        vertical-align: top;\n    }\n\n    .dataframe thead th {\n        text-align: right;\n    }\n</style>\n<table border=\"1\" class=\"dataframe\">\n  <thead>\n    <tr style=\"text-align: right;\">\n      <th></th>\n      <th>id_prod</th>\n      <th>date</th>\n      <th>session_id</th>\n      <th>client_id</th>\n    </tr>\n  </thead>\n  <tbody>\n    <tr>\n      <th>337011</th>\n      <td>1_671</td>\n      <td>2021-05-28 12:35:46.214839</td>\n      <td>s_40720</td>\n      <td>c_3454</td>\n    </tr>\n    <tr>\n      <th>337012</th>\n      <td>0_759</td>\n      <td>2021-06-19 00:19:23.917703</td>\n      <td>s_50568</td>\n      <td>c_6268</td>\n    </tr>\n    <tr>\n      <th>337013</th>\n      <td>0_1256</td>\n      <td>2021-03-16 17:31:59.442007</td>\n      <td>s_7219</td>\n      <td>c_4137</td>\n    </tr>\n    <tr>\n      <th>337014</th>\n      <td>2_227</td>\n      <td>2021-10-30 16:50:15.997750</td>\n      <td>s_112349</td>\n      <td>c_5</td>\n    </tr>\n    <tr>\n      <th>337015</th>\n      <td>0_1417</td>\n      <td>2021-06-26 14:38:19.732946</td>\n      <td>s_54117</td>\n      <td>c_6714</td>\n    </tr>\n  </tbody>\n</table>\n</div>"
     },
     "execution_count": 87,
     "metadata": {},
     "output_type": "execute_result"
    }
   ],
   "source": [
    "transactions.tail()"
   ],
   "metadata": {
    "collapsed": false,
    "pycharm": {
     "name": "#%%\n"
    }
   }
  },
  {
   "cell_type": "markdown",
   "source": [
    "**All data types here are objects this mean complex type that could be used as categorical value.**\n",
    "\n",
    "Three of them have a prefix or suffix **id** already know from other data set and recognized as identify.\n",
    "session_id is a new identify here.\n",
    "\n",
    "**Date** is clear a date type could or should be converted to its proper type using *to_datetime()*\n",
    "\n",
    "Also, here is no null values to be founded."
   ],
   "metadata": {
    "collapsed": false,
    "pycharm": {
     "name": "#%% md\n"
    }
   }
  },
  {
   "cell_type": "code",
   "execution_count": 88,
   "outputs": [
    {
     "name": "stdout",
     "output_type": "stream",
     "text": [
      "<class 'pandas.core.frame.DataFrame'>\n",
      "RangeIndex: 337016 entries, 0 to 337015\n",
      "Data columns (total 4 columns):\n",
      " #   Column      Non-Null Count   Dtype \n",
      "---  ------      --------------   ----- \n",
      " 0   id_prod     337016 non-null  object\n",
      " 1   date        337016 non-null  object\n",
      " 2   session_id  337016 non-null  object\n",
      " 3   client_id   337016 non-null  object\n",
      "dtypes: object(4)\n",
      "memory usage: 10.3+ MB\n"
     ]
    }
   ],
   "source": [
    "transactions.info()"
   ],
   "metadata": {
    "collapsed": false,
    "pycharm": {
     "name": "#%%\n"
    }
   }
  },
  {
   "cell_type": "markdown",
   "source": [
    "The transactions' description table have a interest top row value in all columns specially on date columns this is\n",
    "probably an anomaly the suffix on the value as test must mean that this was a test data value session_id top is also of\n",
    "interest here."
   ],
   "metadata": {
    "collapsed": false
   }
  },
  {
   "cell_type": "code",
   "execution_count": 89,
   "outputs": [
    {
     "data": {
      "text/plain": "       id_prod                             date session_id client_id\ncount   337016                           337016     337016    337016\nunique    3266                           336855     169195      8602\ntop      1_369  test_2021-03-01 02:30:02.237413        s_0    c_1609\nfreq      1081                               13        200     12855",
      "text/html": "<div>\n<style scoped>\n    .dataframe tbody tr th:only-of-type {\n        vertical-align: middle;\n    }\n\n    .dataframe tbody tr th {\n        vertical-align: top;\n    }\n\n    .dataframe thead th {\n        text-align: right;\n    }\n</style>\n<table border=\"1\" class=\"dataframe\">\n  <thead>\n    <tr style=\"text-align: right;\">\n      <th></th>\n      <th>id_prod</th>\n      <th>date</th>\n      <th>session_id</th>\n      <th>client_id</th>\n    </tr>\n  </thead>\n  <tbody>\n    <tr>\n      <th>count</th>\n      <td>337016</td>\n      <td>337016</td>\n      <td>337016</td>\n      <td>337016</td>\n    </tr>\n    <tr>\n      <th>unique</th>\n      <td>3266</td>\n      <td>336855</td>\n      <td>169195</td>\n      <td>8602</td>\n    </tr>\n    <tr>\n      <th>top</th>\n      <td>1_369</td>\n      <td>test_2021-03-01 02:30:02.237413</td>\n      <td>s_0</td>\n      <td>c_1609</td>\n    </tr>\n    <tr>\n      <th>freq</th>\n      <td>1081</td>\n      <td>13</td>\n      <td>200</td>\n      <td>12855</td>\n    </tr>\n  </tbody>\n</table>\n</div>"
     },
     "execution_count": 89,
     "metadata": {},
     "output_type": "execute_result"
    }
   ],
   "source": [
    "# transactions.date = pd.to_datetime(transactions.date)\n",
    "transactions.describe()"
   ],
   "metadata": {
    "collapsed": false,
    "pycharm": {
     "name": "#%%\n"
    }
   }
  },
  {
   "cell_type": "markdown",
   "source": [
    "## Display duplicates on specifics columns and understand it."
   ],
   "metadata": {
    "collapsed": false
   }
  },
  {
   "cell_type": "code",
   "execution_count": 90,
   "outputs": [
    {
     "data": {
      "text/plain": "Empty DataFrame\nColumns: [id_prod, price, categ]\nIndex: []",
      "text/html": "<div>\n<style scoped>\n    .dataframe tbody tr th:only-of-type {\n        vertical-align: middle;\n    }\n\n    .dataframe tbody tr th {\n        vertical-align: top;\n    }\n\n    .dataframe thead th {\n        text-align: right;\n    }\n</style>\n<table border=\"1\" class=\"dataframe\">\n  <thead>\n    <tr style=\"text-align: right;\">\n      <th></th>\n      <th>id_prod</th>\n      <th>price</th>\n      <th>categ</th>\n    </tr>\n  </thead>\n  <tbody>\n  </tbody>\n</table>\n</div>"
     },
     "execution_count": 90,
     "metadata": {},
     "output_type": "execute_result"
    }
   ],
   "source": [
    "# id products looks like some duplicates because many clients can buy the same products with same ids\n",
    "products[products.duplicated(subset='id_prod')]"
   ],
   "metadata": {
    "collapsed": false,
    "pycharm": {
     "name": "#%%\n"
    }
   }
  },
  {
   "cell_type": "code",
   "execution_count": 91,
   "outputs": [
    {
     "data": {
      "text/plain": "0       0_1421\n1       0_1368\n2        0_731\n3        1_587\n4       0_1507\n         ...  \n3282      2_23\n3283     0_146\n3284     0_802\n3285     1_140\n3286    0_1920\nLength: 3287, dtype: object"
     },
     "execution_count": 91,
     "metadata": {},
     "output_type": "execute_result"
    }
   ],
   "source": [
    "# If we there was none duplicates id products\n",
    "\n",
    "pd.Series(products['id_prod'].unique())"
   ],
   "metadata": {
    "collapsed": false,
    "pycharm": {
     "name": "#%%\n"
    }
   }
  },
  {
   "cell_type": "code",
   "execution_count": 92,
   "outputs": [
    {
     "data": {
      "text/plain": "Empty DataFrame\nColumns: [client_id, sex, birth]\nIndex: []",
      "text/html": "<div>\n<style scoped>\n    .dataframe tbody tr th:only-of-type {\n        vertical-align: middle;\n    }\n\n    .dataframe tbody tr th {\n        vertical-align: top;\n    }\n\n    .dataframe thead th {\n        text-align: right;\n    }\n</style>\n<table border=\"1\" class=\"dataframe\">\n  <thead>\n    <tr style=\"text-align: right;\">\n      <th></th>\n      <th>client_id</th>\n      <th>sex</th>\n      <th>birth</th>\n    </tr>\n  </thead>\n  <tbody>\n  </tbody>\n</table>\n</div>"
     },
     "execution_count": 92,
     "metadata": {},
     "output_type": "execute_result"
    }
   ],
   "source": [
    "# There fore that can be duplicates clients id\n",
    "customers[customers.duplicated(subset='client_id')]"
   ],
   "metadata": {
    "collapsed": false,
    "pycharm": {
     "name": "#%%\n"
    }
   }
  },
  {
   "cell_type": "code",
   "execution_count": 93,
   "outputs": [
    {
     "data": {
      "text/plain": "Empty DataFrame\nColumns: [client_id, sex, birth]\nIndex: []",
      "text/html": "<div>\n<style scoped>\n    .dataframe tbody tr th:only-of-type {\n        vertical-align: middle;\n    }\n\n    .dataframe tbody tr th {\n        vertical-align: top;\n    }\n\n    .dataframe thead th {\n        text-align: right;\n    }\n</style>\n<table border=\"1\" class=\"dataframe\">\n  <thead>\n    <tr style=\"text-align: right;\">\n      <th></th>\n      <th>client_id</th>\n      <th>sex</th>\n      <th>birth</th>\n    </tr>\n  </thead>\n  <tbody>\n  </tbody>\n</table>\n</div>"
     },
     "execution_count": 93,
     "metadata": {},
     "output_type": "execute_result"
    }
   ],
   "source": [
    "# If we there none duplicates then this filtered data frame result should be empty!\n",
    "customers[customers.duplicated()]"
   ],
   "metadata": {
    "collapsed": false,
    "pycharm": {
     "name": "#%%\n"
    }
   }
  },
  {
   "cell_type": "code",
   "execution_count": 94,
   "outputs": [
    {
     "data": {
      "text/plain": "       id_prod                        date session_id client_id\n563     0_1334  2021-12-20 19:54:33.947616   s_137385    c_1318\n852      1_706  2021-04-13 09:11:54.849801    s_19950    c_1367\n919     0_1446  2021-09-09 21:10:59.869217    s_87456    c_2917\n1422    0_1097  2021-11-12 05:45:06.609257   s_118374    c_2438\n1427    0_2162  2021-04-08 09:57:34.294741    s_17661    c_4525\n...        ...                         ...        ...       ...\n337008   1_413  2022-01-10 13:47:23.973957   s_147795    c_3706\n337009  0_1475  2021-07-22 13:47:39.400914    s_65686    c_5607\n337010   1_498  2022-02-03 01:39:15.793010   s_159138    c_1857\n337012   0_759  2021-06-19 00:19:23.917703    s_50568    c_6268\n337015  0_1417  2021-06-26 14:38:19.732946    s_54117    c_6714\n\n[167821 rows x 4 columns]",
      "text/html": "<div>\n<style scoped>\n    .dataframe tbody tr th:only-of-type {\n        vertical-align: middle;\n    }\n\n    .dataframe tbody tr th {\n        vertical-align: top;\n    }\n\n    .dataframe thead th {\n        text-align: right;\n    }\n</style>\n<table border=\"1\" class=\"dataframe\">\n  <thead>\n    <tr style=\"text-align: right;\">\n      <th></th>\n      <th>id_prod</th>\n      <th>date</th>\n      <th>session_id</th>\n      <th>client_id</th>\n    </tr>\n  </thead>\n  <tbody>\n    <tr>\n      <th>563</th>\n      <td>0_1334</td>\n      <td>2021-12-20 19:54:33.947616</td>\n      <td>s_137385</td>\n      <td>c_1318</td>\n    </tr>\n    <tr>\n      <th>852</th>\n      <td>1_706</td>\n      <td>2021-04-13 09:11:54.849801</td>\n      <td>s_19950</td>\n      <td>c_1367</td>\n    </tr>\n    <tr>\n      <th>919</th>\n      <td>0_1446</td>\n      <td>2021-09-09 21:10:59.869217</td>\n      <td>s_87456</td>\n      <td>c_2917</td>\n    </tr>\n    <tr>\n      <th>1422</th>\n      <td>0_1097</td>\n      <td>2021-11-12 05:45:06.609257</td>\n      <td>s_118374</td>\n      <td>c_2438</td>\n    </tr>\n    <tr>\n      <th>1427</th>\n      <td>0_2162</td>\n      <td>2021-04-08 09:57:34.294741</td>\n      <td>s_17661</td>\n      <td>c_4525</td>\n    </tr>\n    <tr>\n      <th>...</th>\n      <td>...</td>\n      <td>...</td>\n      <td>...</td>\n      <td>...</td>\n    </tr>\n    <tr>\n      <th>337008</th>\n      <td>1_413</td>\n      <td>2022-01-10 13:47:23.973957</td>\n      <td>s_147795</td>\n      <td>c_3706</td>\n    </tr>\n    <tr>\n      <th>337009</th>\n      <td>0_1475</td>\n      <td>2021-07-22 13:47:39.400914</td>\n      <td>s_65686</td>\n      <td>c_5607</td>\n    </tr>\n    <tr>\n      <th>337010</th>\n      <td>1_498</td>\n      <td>2022-02-03 01:39:15.793010</td>\n      <td>s_159138</td>\n      <td>c_1857</td>\n    </tr>\n    <tr>\n      <th>337012</th>\n      <td>0_759</td>\n      <td>2021-06-19 00:19:23.917703</td>\n      <td>s_50568</td>\n      <td>c_6268</td>\n    </tr>\n    <tr>\n      <th>337015</th>\n      <td>0_1417</td>\n      <td>2021-06-26 14:38:19.732946</td>\n      <td>s_54117</td>\n      <td>c_6714</td>\n    </tr>\n  </tbody>\n</table>\n<p>167821 rows × 4 columns</p>\n</div>"
     },
     "execution_count": 94,
     "metadata": {},
     "output_type": "execute_result"
    }
   ],
   "source": [
    "# can we say the same about session ids? that can be multiples clients id on with different sessions\n",
    "transactions[transactions.duplicated(subset='session_id')]"
   ],
   "metadata": {
    "collapsed": false,
    "pycharm": {
     "name": "#%%\n"
    }
   }
  },
  {
   "cell_type": "code",
   "execution_count": 96,
   "outputs": [
    {
     "data": {
      "text/plain": "       id_prod                             date session_id client_id\n34387      T_0  test_2021-03-01 02:30:02.237443        s_0      ct_0\n54813      T_0  test_2021-03-01 02:30:02.237412        s_0      ct_1\n57261      T_0  test_2021-03-01 02:30:02.237439        s_0      ct_1\n58802      T_0  test_2021-03-01 02:30:02.237429        s_0      ct_0\n60170      T_0  test_2021-03-01 02:30:02.237446        s_0      ct_0\n...        ...                              ...        ...       ...\n332594     T_0  test_2021-03-01 02:30:02.237445        s_0      ct_0\n332705     T_0  test_2021-03-01 02:30:02.237423        s_0      ct_1\n332730     T_0  test_2021-03-01 02:30:02.237421        s_0      ct_1\n333442     T_0  test_2021-03-01 02:30:02.237431        s_0      ct_1\n335279     T_0  test_2021-03-01 02:30:02.237430        s_0      ct_0\n\n[126 rows x 4 columns]",
      "text/html": "<div>\n<style scoped>\n    .dataframe tbody tr th:only-of-type {\n        vertical-align: middle;\n    }\n\n    .dataframe tbody tr th {\n        vertical-align: top;\n    }\n\n    .dataframe thead th {\n        text-align: right;\n    }\n</style>\n<table border=\"1\" class=\"dataframe\">\n  <thead>\n    <tr style=\"text-align: right;\">\n      <th></th>\n      <th>id_prod</th>\n      <th>date</th>\n      <th>session_id</th>\n      <th>client_id</th>\n    </tr>\n  </thead>\n  <tbody>\n    <tr>\n      <th>34387</th>\n      <td>T_0</td>\n      <td>test_2021-03-01 02:30:02.237443</td>\n      <td>s_0</td>\n      <td>ct_0</td>\n    </tr>\n    <tr>\n      <th>54813</th>\n      <td>T_0</td>\n      <td>test_2021-03-01 02:30:02.237412</td>\n      <td>s_0</td>\n      <td>ct_1</td>\n    </tr>\n    <tr>\n      <th>57261</th>\n      <td>T_0</td>\n      <td>test_2021-03-01 02:30:02.237439</td>\n      <td>s_0</td>\n      <td>ct_1</td>\n    </tr>\n    <tr>\n      <th>58802</th>\n      <td>T_0</td>\n      <td>test_2021-03-01 02:30:02.237429</td>\n      <td>s_0</td>\n      <td>ct_0</td>\n    </tr>\n    <tr>\n      <th>60170</th>\n      <td>T_0</td>\n      <td>test_2021-03-01 02:30:02.237446</td>\n      <td>s_0</td>\n      <td>ct_0</td>\n    </tr>\n    <tr>\n      <th>...</th>\n      <td>...</td>\n      <td>...</td>\n      <td>...</td>\n      <td>...</td>\n    </tr>\n    <tr>\n      <th>332594</th>\n      <td>T_0</td>\n      <td>test_2021-03-01 02:30:02.237445</td>\n      <td>s_0</td>\n      <td>ct_0</td>\n    </tr>\n    <tr>\n      <th>332705</th>\n      <td>T_0</td>\n      <td>test_2021-03-01 02:30:02.237423</td>\n      <td>s_0</td>\n      <td>ct_1</td>\n    </tr>\n    <tr>\n      <th>332730</th>\n      <td>T_0</td>\n      <td>test_2021-03-01 02:30:02.237421</td>\n      <td>s_0</td>\n      <td>ct_1</td>\n    </tr>\n    <tr>\n      <th>333442</th>\n      <td>T_0</td>\n      <td>test_2021-03-01 02:30:02.237431</td>\n      <td>s_0</td>\n      <td>ct_1</td>\n    </tr>\n    <tr>\n      <th>335279</th>\n      <td>T_0</td>\n      <td>test_2021-03-01 02:30:02.237430</td>\n      <td>s_0</td>\n      <td>ct_0</td>\n    </tr>\n  </tbody>\n</table>\n<p>126 rows × 4 columns</p>\n</div>"
     },
     "execution_count": 96,
     "metadata": {},
     "output_type": "execute_result"
    }
   ],
   "source": [
    "# If we there none duplicates then this filtered data frame result should be empty!\n",
    "transactions[transactions.duplicated()]"
   ],
   "metadata": {
    "collapsed": false,
    "pycharm": {
     "name": "#%%\n"
    }
   }
  },
  {
   "cell_type": "code",
   "execution_count": 63,
   "outputs": [
    {
     "data": {
      "text/plain": "     client_id sex  birth\n6        c_285   f   1967\n9       c_6866   m   1993\n11      c_4389   m   1984\n14      c_2322   f   1967\n15      c_4701   f   1971\n...        ...  ..    ...\n8618    c_7920   m   1956\n8619    c_7403   f   1970\n8620    c_5119   m   1974\n8621    c_5643   f   1968\n8622      c_84   f   1982\n\n[8547 rows x 3 columns]",
      "text/html": "<div>\n<style scoped>\n    .dataframe tbody tr th:only-of-type {\n        vertical-align: middle;\n    }\n\n    .dataframe tbody tr th {\n        vertical-align: top;\n    }\n\n    .dataframe thead th {\n        text-align: right;\n    }\n</style>\n<table border=\"1\" class=\"dataframe\">\n  <thead>\n    <tr style=\"text-align: right;\">\n      <th></th>\n      <th>client_id</th>\n      <th>sex</th>\n      <th>birth</th>\n    </tr>\n  </thead>\n  <tbody>\n    <tr>\n      <th>6</th>\n      <td>c_285</td>\n      <td>f</td>\n      <td>1967</td>\n    </tr>\n    <tr>\n      <th>9</th>\n      <td>c_6866</td>\n      <td>m</td>\n      <td>1993</td>\n    </tr>\n    <tr>\n      <th>11</th>\n      <td>c_4389</td>\n      <td>m</td>\n      <td>1984</td>\n    </tr>\n    <tr>\n      <th>14</th>\n      <td>c_2322</td>\n      <td>f</td>\n      <td>1967</td>\n    </tr>\n    <tr>\n      <th>15</th>\n      <td>c_4701</td>\n      <td>f</td>\n      <td>1971</td>\n    </tr>\n    <tr>\n      <th>...</th>\n      <td>...</td>\n      <td>...</td>\n      <td>...</td>\n    </tr>\n    <tr>\n      <th>8618</th>\n      <td>c_7920</td>\n      <td>m</td>\n      <td>1956</td>\n    </tr>\n    <tr>\n      <th>8619</th>\n      <td>c_7403</td>\n      <td>f</td>\n      <td>1970</td>\n    </tr>\n    <tr>\n      <th>8620</th>\n      <td>c_5119</td>\n      <td>m</td>\n      <td>1974</td>\n    </tr>\n    <tr>\n      <th>8621</th>\n      <td>c_5643</td>\n      <td>f</td>\n      <td>1968</td>\n    </tr>\n    <tr>\n      <th>8622</th>\n      <td>c_84</td>\n      <td>f</td>\n      <td>1982</td>\n    </tr>\n  </tbody>\n</table>\n<p>8547 rows × 3 columns</p>\n</div>"
     },
     "execution_count": 63,
     "metadata": {},
     "output_type": "execute_result"
    }
   ],
   "source": [
    "# And of curse clients can also have the same birth day.\n",
    "customers[customers.duplicated(subset='birth')]"
   ],
   "metadata": {
    "collapsed": false,
    "pycharm": {
     "name": "#%%\n"
    }
   }
  },
  {
   "cell_type": "code",
   "execution_count": 64,
   "outputs": [
    {
     "data": {
      "text/plain": "Empty DataFrame\nColumns: [client_id, sex, birth]\nIndex: []",
      "text/html": "<div>\n<style scoped>\n    .dataframe tbody tr th:only-of-type {\n        vertical-align: middle;\n    }\n\n    .dataframe tbody tr th {\n        vertical-align: top;\n    }\n\n    .dataframe thead th {\n        text-align: right;\n    }\n</style>\n<table border=\"1\" class=\"dataframe\">\n  <thead>\n    <tr style=\"text-align: right;\">\n      <th></th>\n      <th>client_id</th>\n      <th>sex</th>\n      <th>birth</th>\n    </tr>\n  </thead>\n  <tbody>\n  </tbody>\n</table>\n</div>"
     },
     "execution_count": 64,
     "metadata": {},
     "output_type": "execute_result"
    }
   ],
   "source": [
    "# If we there none duplicates then this filtered data frame result should be empty!\n",
    "customers[customers.duplicated()]"
   ],
   "metadata": {
    "collapsed": false,
    "pycharm": {
     "name": "#%%\n"
    }
   }
  },
  {
   "cell_type": "markdown",
   "source": [
    "**So its look like there are duplicates only in the transaction data set, they seam to be test data**"
   ],
   "metadata": {
    "collapsed": false
   }
  },
  {
   "cell_type": "markdown",
   "source": [
    "### The sum of duplicates\n",
    "**This is the last check for duplicates having none duplicates mean a sum of zero duplicates**"
   ],
   "metadata": {
    "collapsed": false
   }
  },
  {
   "cell_type": "code",
   "execution_count": 65,
   "outputs": [
    {
     "name": "stdout",
     "output_type": "stream",
     "text": [
      "this are the sum of duplicates entries!\n"
     ]
    },
    {
     "data": {
      "text/plain": "126"
     },
     "execution_count": 65,
     "metadata": {},
     "output_type": "execute_result"
    }
   ],
   "source": [
    "print('this are the sum of duplicates entries!')\n",
    "transactions.duplicated().sum()"
   ],
   "metadata": {
    "collapsed": false,
    "pycharm": {
     "name": "#%%\n"
    }
   }
  },
  {
   "cell_type": "markdown",
   "source": [
    "# Cleaning data set from test data!\n",
    "\n",
    "**After deducing that transaction has this test data and before merge all together'\n",
    "I can then in this next step use the test value as an identified, in all the others' data, filter and delete them.**\n",
    "\n",
    "Getting all test data values.\n"
   ],
   "metadata": {
    "collapsed": false,
    "pycharm": {
     "name": "#%% md\n"
    }
   }
  },
  {
   "cell_type": "code",
   "execution_count": 66,
   "outputs": [
    {
     "data": {
      "text/plain": "       id_prod                             date session_id client_id\n1431       T_0  test_2021-03-01 02:30:02.237420        s_0      ct_1\n2365       T_0  test_2021-03-01 02:30:02.237446        s_0      ct_1\n2895       T_0  test_2021-03-01 02:30:02.237414        s_0      ct_1\n5955       T_0  test_2021-03-01 02:30:02.237441        s_0      ct_0\n7283       T_0  test_2021-03-01 02:30:02.237434        s_0      ct_1\n...        ...                              ...        ...       ...\n332594     T_0  test_2021-03-01 02:30:02.237445        s_0      ct_0\n332705     T_0  test_2021-03-01 02:30:02.237423        s_0      ct_1\n332730     T_0  test_2021-03-01 02:30:02.237421        s_0      ct_1\n333442     T_0  test_2021-03-01 02:30:02.237431        s_0      ct_1\n335279     T_0  test_2021-03-01 02:30:02.237430        s_0      ct_0\n\n[200 rows x 4 columns]",
      "text/html": "<div>\n<style scoped>\n    .dataframe tbody tr th:only-of-type {\n        vertical-align: middle;\n    }\n\n    .dataframe tbody tr th {\n        vertical-align: top;\n    }\n\n    .dataframe thead th {\n        text-align: right;\n    }\n</style>\n<table border=\"1\" class=\"dataframe\">\n  <thead>\n    <tr style=\"text-align: right;\">\n      <th></th>\n      <th>id_prod</th>\n      <th>date</th>\n      <th>session_id</th>\n      <th>client_id</th>\n    </tr>\n  </thead>\n  <tbody>\n    <tr>\n      <th>1431</th>\n      <td>T_0</td>\n      <td>test_2021-03-01 02:30:02.237420</td>\n      <td>s_0</td>\n      <td>ct_1</td>\n    </tr>\n    <tr>\n      <th>2365</th>\n      <td>T_0</td>\n      <td>test_2021-03-01 02:30:02.237446</td>\n      <td>s_0</td>\n      <td>ct_1</td>\n    </tr>\n    <tr>\n      <th>2895</th>\n      <td>T_0</td>\n      <td>test_2021-03-01 02:30:02.237414</td>\n      <td>s_0</td>\n      <td>ct_1</td>\n    </tr>\n    <tr>\n      <th>5955</th>\n      <td>T_0</td>\n      <td>test_2021-03-01 02:30:02.237441</td>\n      <td>s_0</td>\n      <td>ct_0</td>\n    </tr>\n    <tr>\n      <th>7283</th>\n      <td>T_0</td>\n      <td>test_2021-03-01 02:30:02.237434</td>\n      <td>s_0</td>\n      <td>ct_1</td>\n    </tr>\n    <tr>\n      <th>...</th>\n      <td>...</td>\n      <td>...</td>\n      <td>...</td>\n      <td>...</td>\n    </tr>\n    <tr>\n      <th>332594</th>\n      <td>T_0</td>\n      <td>test_2021-03-01 02:30:02.237445</td>\n      <td>s_0</td>\n      <td>ct_0</td>\n    </tr>\n    <tr>\n      <th>332705</th>\n      <td>T_0</td>\n      <td>test_2021-03-01 02:30:02.237423</td>\n      <td>s_0</td>\n      <td>ct_1</td>\n    </tr>\n    <tr>\n      <th>332730</th>\n      <td>T_0</td>\n      <td>test_2021-03-01 02:30:02.237421</td>\n      <td>s_0</td>\n      <td>ct_1</td>\n    </tr>\n    <tr>\n      <th>333442</th>\n      <td>T_0</td>\n      <td>test_2021-03-01 02:30:02.237431</td>\n      <td>s_0</td>\n      <td>ct_1</td>\n    </tr>\n    <tr>\n      <th>335279</th>\n      <td>T_0</td>\n      <td>test_2021-03-01 02:30:02.237430</td>\n      <td>s_0</td>\n      <td>ct_0</td>\n    </tr>\n  </tbody>\n</table>\n<p>200 rows × 4 columns</p>\n</div>"
     },
     "execution_count": 66,
     "metadata": {},
     "output_type": "execute_result"
    }
   ],
   "source": [
    "# using string method to extracting all strings value that start with test.\n",
    "test_datas = transactions[transactions.date.str.startswith('test')]\n",
    "test_datas\n",
    "\n",
    "# Find its unique id values for products id. using its identifying test products and remove it."
   ],
   "metadata": {
    "collapsed": false,
    "pycharm": {
     "name": "#%%\n"
    }
   }
  },
  {
   "cell_type": "code",
   "execution_count": 67,
   "outputs": [
    {
     "name": "stdout",
     "output_type": "stream",
     "text": [
      "found test products that should be removed\n"
     ]
    },
    {
     "data": {
      "text/plain": "    id_prod  price  categ\n731     T_0   -1.0      0",
      "text/html": "<div>\n<style scoped>\n    .dataframe tbody tr th:only-of-type {\n        vertical-align: middle;\n    }\n\n    .dataframe tbody tr th {\n        vertical-align: top;\n    }\n\n    .dataframe thead th {\n        text-align: right;\n    }\n</style>\n<table border=\"1\" class=\"dataframe\">\n  <thead>\n    <tr style=\"text-align: right;\">\n      <th></th>\n      <th>id_prod</th>\n      <th>price</th>\n      <th>categ</th>\n    </tr>\n  </thead>\n  <tbody>\n    <tr>\n      <th>731</th>\n      <td>T_0</td>\n      <td>-1.0</td>\n      <td>0</td>\n    </tr>\n  </tbody>\n</table>\n</div>"
     },
     "execution_count": 67,
     "metadata": {},
     "output_type": "execute_result"
    }
   ],
   "source": [
    "# get only unique products id from test data.\n",
    "test_product_id = test_datas.id_prod.unique()\n",
    "\n",
    "print('found test products that should be removed')\n",
    "test_products = products.loc[products.id_prod.isin(test_product_id)]\n",
    "test_products"
   ],
   "metadata": {
    "collapsed": false,
    "pycharm": {
     "name": "#%%\n"
    }
   }
  },
  {
   "cell_type": "code",
   "execution_count": 68,
   "outputs": [],
   "source": [
    "# drop test products.\n",
    "products.drop(test_products.index, inplace=True)\n",
    "\n",
    "# Find its unique id values for customers id. using its identifying test products and remove it."
   ],
   "metadata": {
    "collapsed": false,
    "pycharm": {
     "name": "#%%\n"
    }
   }
  },
  {
   "cell_type": "code",
   "execution_count": 69,
   "outputs": [
    {
     "name": "stdout",
     "output_type": "stream",
     "text": [
      "found test customers that should be removed\n"
     ]
    },
    {
     "data": {
      "text/plain": "     client_id sex  birth\n2735      ct_0   f   2001\n8494      ct_1   m   2001",
      "text/html": "<div>\n<style scoped>\n    .dataframe tbody tr th:only-of-type {\n        vertical-align: middle;\n    }\n\n    .dataframe tbody tr th {\n        vertical-align: top;\n    }\n\n    .dataframe thead th {\n        text-align: right;\n    }\n</style>\n<table border=\"1\" class=\"dataframe\">\n  <thead>\n    <tr style=\"text-align: right;\">\n      <th></th>\n      <th>client_id</th>\n      <th>sex</th>\n      <th>birth</th>\n    </tr>\n  </thead>\n  <tbody>\n    <tr>\n      <th>2735</th>\n      <td>ct_0</td>\n      <td>f</td>\n      <td>2001</td>\n    </tr>\n    <tr>\n      <th>8494</th>\n      <td>ct_1</td>\n      <td>m</td>\n      <td>2001</td>\n    </tr>\n  </tbody>\n</table>\n</div>"
     },
     "execution_count": 69,
     "metadata": {},
     "output_type": "execute_result"
    }
   ],
   "source": [
    "# get only unique customer id from test data.\n",
    "test_customer_id = test_datas.client_id.unique()\n",
    "\n",
    "print('found test customers that should be removed')\n",
    "test_customer = customers.loc[customers.client_id.isin(test_customer_id)]\n",
    "test_customer"
   ],
   "metadata": {
    "collapsed": false,
    "pycharm": {
     "name": "#%%\n"
    }
   }
  },
  {
   "cell_type": "code",
   "execution_count": 70,
   "outputs": [],
   "source": [
    "# drop test customers.\n",
    "customers.drop(test_customer.index, inplace=True)\n",
    "\n",
    "# Find its unique id values for transaction id. using its identifying test products and remove it."
   ],
   "metadata": {
    "collapsed": false,
    "pycharm": {
     "name": "#%%\n"
    }
   }
  },
  {
   "cell_type": "code",
   "execution_count": 71,
   "outputs": [
    {
     "name": "stdout",
     "output_type": "stream",
     "text": [
      "found test transactions that should be removed\n"
     ]
    },
    {
     "data": {
      "text/plain": "       id_prod                             date session_id client_id\n1431       T_0  test_2021-03-01 02:30:02.237420        s_0      ct_1\n2365       T_0  test_2021-03-01 02:30:02.237446        s_0      ct_1\n2895       T_0  test_2021-03-01 02:30:02.237414        s_0      ct_1\n5955       T_0  test_2021-03-01 02:30:02.237441        s_0      ct_0\n7283       T_0  test_2021-03-01 02:30:02.237434        s_0      ct_1\n...        ...                              ...        ...       ...\n332594     T_0  test_2021-03-01 02:30:02.237445        s_0      ct_0\n332705     T_0  test_2021-03-01 02:30:02.237423        s_0      ct_1\n332730     T_0  test_2021-03-01 02:30:02.237421        s_0      ct_1\n333442     T_0  test_2021-03-01 02:30:02.237431        s_0      ct_1\n335279     T_0  test_2021-03-01 02:30:02.237430        s_0      ct_0\n\n[200 rows x 4 columns]",
      "text/html": "<div>\n<style scoped>\n    .dataframe tbody tr th:only-of-type {\n        vertical-align: middle;\n    }\n\n    .dataframe tbody tr th {\n        vertical-align: top;\n    }\n\n    .dataframe thead th {\n        text-align: right;\n    }\n</style>\n<table border=\"1\" class=\"dataframe\">\n  <thead>\n    <tr style=\"text-align: right;\">\n      <th></th>\n      <th>id_prod</th>\n      <th>date</th>\n      <th>session_id</th>\n      <th>client_id</th>\n    </tr>\n  </thead>\n  <tbody>\n    <tr>\n      <th>1431</th>\n      <td>T_0</td>\n      <td>test_2021-03-01 02:30:02.237420</td>\n      <td>s_0</td>\n      <td>ct_1</td>\n    </tr>\n    <tr>\n      <th>2365</th>\n      <td>T_0</td>\n      <td>test_2021-03-01 02:30:02.237446</td>\n      <td>s_0</td>\n      <td>ct_1</td>\n    </tr>\n    <tr>\n      <th>2895</th>\n      <td>T_0</td>\n      <td>test_2021-03-01 02:30:02.237414</td>\n      <td>s_0</td>\n      <td>ct_1</td>\n    </tr>\n    <tr>\n      <th>5955</th>\n      <td>T_0</td>\n      <td>test_2021-03-01 02:30:02.237441</td>\n      <td>s_0</td>\n      <td>ct_0</td>\n    </tr>\n    <tr>\n      <th>7283</th>\n      <td>T_0</td>\n      <td>test_2021-03-01 02:30:02.237434</td>\n      <td>s_0</td>\n      <td>ct_1</td>\n    </tr>\n    <tr>\n      <th>...</th>\n      <td>...</td>\n      <td>...</td>\n      <td>...</td>\n      <td>...</td>\n    </tr>\n    <tr>\n      <th>332594</th>\n      <td>T_0</td>\n      <td>test_2021-03-01 02:30:02.237445</td>\n      <td>s_0</td>\n      <td>ct_0</td>\n    </tr>\n    <tr>\n      <th>332705</th>\n      <td>T_0</td>\n      <td>test_2021-03-01 02:30:02.237423</td>\n      <td>s_0</td>\n      <td>ct_1</td>\n    </tr>\n    <tr>\n      <th>332730</th>\n      <td>T_0</td>\n      <td>test_2021-03-01 02:30:02.237421</td>\n      <td>s_0</td>\n      <td>ct_1</td>\n    </tr>\n    <tr>\n      <th>333442</th>\n      <td>T_0</td>\n      <td>test_2021-03-01 02:30:02.237431</td>\n      <td>s_0</td>\n      <td>ct_1</td>\n    </tr>\n    <tr>\n      <th>335279</th>\n      <td>T_0</td>\n      <td>test_2021-03-01 02:30:02.237430</td>\n      <td>s_0</td>\n      <td>ct_0</td>\n    </tr>\n  </tbody>\n</table>\n<p>200 rows × 4 columns</p>\n</div>"
     },
     "execution_count": 71,
     "metadata": {},
     "output_type": "execute_result"
    }
   ],
   "source": [
    "# get only unique transaction session id from test data.\n",
    "test_transaction_id = test_datas.session_id.unique()\n",
    "\n",
    "print('found test transactions that should be removed')\n",
    "test_transaction = transactions.loc[transactions.session_id.isin(test_transaction_id)]\n",
    "test_transaction"
   ],
   "metadata": {
    "collapsed": false,
    "pycharm": {
     "name": "#%%\n"
    }
   }
  },
  {
   "cell_type": "code",
   "execution_count": 72,
   "outputs": [],
   "source": [
    "# drop test customers.\n",
    "transactions.drop(test_transaction.index, inplace=True)"
   ],
   "metadata": {
    "collapsed": false,
    "pycharm": {
     "name": "#%%\n"
    }
   }
  },
  {
   "cell_type": "markdown",
   "source": [
    "# Merge data sets to a single Dataframe.\n",
    "\n",
    "## **After cleaning the all data set I can create a new data set merge from them and use it for further analysis**\n",
    "## Check for duplicates on whole data set."
   ],
   "metadata": {
    "collapsed": false
   }
  },
  {
   "cell_type": "code",
   "execution_count": 73,
   "outputs": [
    {
     "data": {
      "text/plain": "  id_prod                        date session_id client_id sex  birth  price  \\\n0  0_1483  2021-04-10 18:37:28.723910    s_18746    c_4450   f   1977   4.99   \n1  0_1483  2021-12-27 11:11:12.123067   s_140787    c_5433   f   1981   4.99   \n2  0_1483  2021-10-27 04:56:38.293970   s_110736     c_857   m   1985   4.99   \n3  0_1483  2021-07-04 06:43:45.676567    s_57626    c_3679   f   1989   4.99   \n4  0_1483  2021-09-19 08:45:43.735331    s_92165    c_1609   m   1980   4.99   \n5  0_1483  2021-07-22 20:45:15.286364    s_65805    c_1609   m   1980   4.99   \n6  0_1483  2021-05-08 06:20:05.395325    s_31519    c_1609   m   1980   4.99   \n7  0_1483  2021-04-17 06:01:35.017859    s_21725    c_1609   m   1980   4.99   \n8  0_1483  2021-06-06 13:42:00.282408    s_44891    c_1609   m   1980   4.99   \n9  0_1483  2021-11-06 06:50:13.522171   s_115452    c_1609   m   1980   4.99   \n\n   categ  \n0      0  \n1      0  \n2      0  \n3      0  \n4      0  \n5      0  \n6      0  \n7      0  \n8      0  \n9      0  ",
      "text/html": "<div>\n<style scoped>\n    .dataframe tbody tr th:only-of-type {\n        vertical-align: middle;\n    }\n\n    .dataframe tbody tr th {\n        vertical-align: top;\n    }\n\n    .dataframe thead th {\n        text-align: right;\n    }\n</style>\n<table border=\"1\" class=\"dataframe\">\n  <thead>\n    <tr style=\"text-align: right;\">\n      <th></th>\n      <th>id_prod</th>\n      <th>date</th>\n      <th>session_id</th>\n      <th>client_id</th>\n      <th>sex</th>\n      <th>birth</th>\n      <th>price</th>\n      <th>categ</th>\n    </tr>\n  </thead>\n  <tbody>\n    <tr>\n      <th>0</th>\n      <td>0_1483</td>\n      <td>2021-04-10 18:37:28.723910</td>\n      <td>s_18746</td>\n      <td>c_4450</td>\n      <td>f</td>\n      <td>1977</td>\n      <td>4.99</td>\n      <td>0</td>\n    </tr>\n    <tr>\n      <th>1</th>\n      <td>0_1483</td>\n      <td>2021-12-27 11:11:12.123067</td>\n      <td>s_140787</td>\n      <td>c_5433</td>\n      <td>f</td>\n      <td>1981</td>\n      <td>4.99</td>\n      <td>0</td>\n    </tr>\n    <tr>\n      <th>2</th>\n      <td>0_1483</td>\n      <td>2021-10-27 04:56:38.293970</td>\n      <td>s_110736</td>\n      <td>c_857</td>\n      <td>m</td>\n      <td>1985</td>\n      <td>4.99</td>\n      <td>0</td>\n    </tr>\n    <tr>\n      <th>3</th>\n      <td>0_1483</td>\n      <td>2021-07-04 06:43:45.676567</td>\n      <td>s_57626</td>\n      <td>c_3679</td>\n      <td>f</td>\n      <td>1989</td>\n      <td>4.99</td>\n      <td>0</td>\n    </tr>\n    <tr>\n      <th>4</th>\n      <td>0_1483</td>\n      <td>2021-09-19 08:45:43.735331</td>\n      <td>s_92165</td>\n      <td>c_1609</td>\n      <td>m</td>\n      <td>1980</td>\n      <td>4.99</td>\n      <td>0</td>\n    </tr>\n    <tr>\n      <th>5</th>\n      <td>0_1483</td>\n      <td>2021-07-22 20:45:15.286364</td>\n      <td>s_65805</td>\n      <td>c_1609</td>\n      <td>m</td>\n      <td>1980</td>\n      <td>4.99</td>\n      <td>0</td>\n    </tr>\n    <tr>\n      <th>6</th>\n      <td>0_1483</td>\n      <td>2021-05-08 06:20:05.395325</td>\n      <td>s_31519</td>\n      <td>c_1609</td>\n      <td>m</td>\n      <td>1980</td>\n      <td>4.99</td>\n      <td>0</td>\n    </tr>\n    <tr>\n      <th>7</th>\n      <td>0_1483</td>\n      <td>2021-04-17 06:01:35.017859</td>\n      <td>s_21725</td>\n      <td>c_1609</td>\n      <td>m</td>\n      <td>1980</td>\n      <td>4.99</td>\n      <td>0</td>\n    </tr>\n    <tr>\n      <th>8</th>\n      <td>0_1483</td>\n      <td>2021-06-06 13:42:00.282408</td>\n      <td>s_44891</td>\n      <td>c_1609</td>\n      <td>m</td>\n      <td>1980</td>\n      <td>4.99</td>\n      <td>0</td>\n    </tr>\n    <tr>\n      <th>9</th>\n      <td>0_1483</td>\n      <td>2021-11-06 06:50:13.522171</td>\n      <td>s_115452</td>\n      <td>c_1609</td>\n      <td>m</td>\n      <td>1980</td>\n      <td>4.99</td>\n      <td>0</td>\n    </tr>\n  </tbody>\n</table>\n</div>"
     },
     "execution_count": 73,
     "metadata": {},
     "output_type": "execute_result"
    }
   ],
   "source": [
    "# Merging customers with transactions based on client id and id product.\n",
    "data = transactions.merge(customers, on='client_id').merge(products, on='id_prod')\n",
    "\n",
    "data.head(10)"
   ],
   "metadata": {
    "collapsed": false,
    "pycharm": {
     "name": "#%%\n"
    }
   }
  },
  {
   "cell_type": "markdown",
   "source": [
    "**At this point I can convert the date and birth column in to date time dtype.**\n",
    "\n",
    "Final data set."
   ],
   "metadata": {
    "collapsed": false,
    "pycharm": {
     "name": "#%% md\n"
    }
   }
  },
  {
   "cell_type": "code",
   "execution_count": 74,
   "outputs": [
    {
     "data": {
      "text/plain": "       id_prod                       date session_id client_id sex  birth  \\\n0       0_1483 2021-04-10 18:37:28.723910    s_18746    c_4450   f   1977   \n1       0_1483 2021-12-27 11:11:12.123067   s_140787    c_5433   f   1981   \n2       0_1483 2021-10-27 04:56:38.293970   s_110736     c_857   m   1985   \n3       0_1483 2021-07-04 06:43:45.676567    s_57626    c_3679   f   1989   \n4       0_1483 2021-09-19 08:45:43.735331    s_92165    c_1609   m   1980   \n...        ...                        ...        ...       ...  ..    ...   \n336708  0_1920 2021-04-13 18:36:10.252971    s_20115    c_7088   m   1987   \n336709  0_1920 2021-05-30 02:37:22.371278    s_41465    c_7748   f   1989   \n336710    2_23 2021-09-27 04:47:02.271354    s_96170    c_3976   f   1992   \n336711    2_28 2021-05-11 01:31:34.932056    s_32812    c_7613   f   1993   \n336712    2_98 2021-03-08 21:10:32.250919     s_3637    c_5967   f   2003   \n\n         price  categ  \n0         4.99      0  \n1         4.99      0  \n2         4.99      0  \n3         4.99      0  \n4         4.99      0  \n...        ...    ...  \n336708   25.16      0  \n336709   25.16      0  \n336710  115.99      2  \n336711  103.50      2  \n336712  149.74      2  \n\n[336713 rows x 8 columns]",
      "text/html": "<div>\n<style scoped>\n    .dataframe tbody tr th:only-of-type {\n        vertical-align: middle;\n    }\n\n    .dataframe tbody tr th {\n        vertical-align: top;\n    }\n\n    .dataframe thead th {\n        text-align: right;\n    }\n</style>\n<table border=\"1\" class=\"dataframe\">\n  <thead>\n    <tr style=\"text-align: right;\">\n      <th></th>\n      <th>id_prod</th>\n      <th>date</th>\n      <th>session_id</th>\n      <th>client_id</th>\n      <th>sex</th>\n      <th>birth</th>\n      <th>price</th>\n      <th>categ</th>\n    </tr>\n  </thead>\n  <tbody>\n    <tr>\n      <th>0</th>\n      <td>0_1483</td>\n      <td>2021-04-10 18:37:28.723910</td>\n      <td>s_18746</td>\n      <td>c_4450</td>\n      <td>f</td>\n      <td>1977</td>\n      <td>4.99</td>\n      <td>0</td>\n    </tr>\n    <tr>\n      <th>1</th>\n      <td>0_1483</td>\n      <td>2021-12-27 11:11:12.123067</td>\n      <td>s_140787</td>\n      <td>c_5433</td>\n      <td>f</td>\n      <td>1981</td>\n      <td>4.99</td>\n      <td>0</td>\n    </tr>\n    <tr>\n      <th>2</th>\n      <td>0_1483</td>\n      <td>2021-10-27 04:56:38.293970</td>\n      <td>s_110736</td>\n      <td>c_857</td>\n      <td>m</td>\n      <td>1985</td>\n      <td>4.99</td>\n      <td>0</td>\n    </tr>\n    <tr>\n      <th>3</th>\n      <td>0_1483</td>\n      <td>2021-07-04 06:43:45.676567</td>\n      <td>s_57626</td>\n      <td>c_3679</td>\n      <td>f</td>\n      <td>1989</td>\n      <td>4.99</td>\n      <td>0</td>\n    </tr>\n    <tr>\n      <th>4</th>\n      <td>0_1483</td>\n      <td>2021-09-19 08:45:43.735331</td>\n      <td>s_92165</td>\n      <td>c_1609</td>\n      <td>m</td>\n      <td>1980</td>\n      <td>4.99</td>\n      <td>0</td>\n    </tr>\n    <tr>\n      <th>...</th>\n      <td>...</td>\n      <td>...</td>\n      <td>...</td>\n      <td>...</td>\n      <td>...</td>\n      <td>...</td>\n      <td>...</td>\n      <td>...</td>\n    </tr>\n    <tr>\n      <th>336708</th>\n      <td>0_1920</td>\n      <td>2021-04-13 18:36:10.252971</td>\n      <td>s_20115</td>\n      <td>c_7088</td>\n      <td>m</td>\n      <td>1987</td>\n      <td>25.16</td>\n      <td>0</td>\n    </tr>\n    <tr>\n      <th>336709</th>\n      <td>0_1920</td>\n      <td>2021-05-30 02:37:22.371278</td>\n      <td>s_41465</td>\n      <td>c_7748</td>\n      <td>f</td>\n      <td>1989</td>\n      <td>25.16</td>\n      <td>0</td>\n    </tr>\n    <tr>\n      <th>336710</th>\n      <td>2_23</td>\n      <td>2021-09-27 04:47:02.271354</td>\n      <td>s_96170</td>\n      <td>c_3976</td>\n      <td>f</td>\n      <td>1992</td>\n      <td>115.99</td>\n      <td>2</td>\n    </tr>\n    <tr>\n      <th>336711</th>\n      <td>2_28</td>\n      <td>2021-05-11 01:31:34.932056</td>\n      <td>s_32812</td>\n      <td>c_7613</td>\n      <td>f</td>\n      <td>1993</td>\n      <td>103.50</td>\n      <td>2</td>\n    </tr>\n    <tr>\n      <th>336712</th>\n      <td>2_98</td>\n      <td>2021-03-08 21:10:32.250919</td>\n      <td>s_3637</td>\n      <td>c_5967</td>\n      <td>f</td>\n      <td>2003</td>\n      <td>149.74</td>\n      <td>2</td>\n    </tr>\n  </tbody>\n</table>\n<p>336713 rows × 8 columns</p>\n</div>"
     },
     "execution_count": 74,
     "metadata": {},
     "output_type": "execute_result"
    }
   ],
   "source": [
    "# Convert date and birth to datetime type.\n",
    "data.date = pd.to_datetime(data.date)\n",
    "data"
   ],
   "metadata": {
    "collapsed": false,
    "pycharm": {
     "name": "#%%\n"
    }
   }
  },
  {
   "cell_type": "markdown",
   "source": [
    "# Exporting the clean data set"
   ],
   "metadata": {
    "collapsed": false,
    "pycharm": {
     "name": "#%% md\n"
    }
   }
  },
  {
   "cell_type": "code",
   "execution_count": 75,
   "outputs": [
    {
     "data": {
      "text/plain": "  id_prod                       date session_id client_id sex  birth  price  \\\n0  0_1483 2021-04-10 18:37:28.723910    s_18746    c_4450   f   1977   4.99   \n1  0_1483 2021-12-27 11:11:12.123067   s_140787    c_5433   f   1981   4.99   \n2  0_1483 2021-10-27 04:56:38.293970   s_110736     c_857   m   1985   4.99   \n3  0_1483 2021-07-04 06:43:45.676567    s_57626    c_3679   f   1989   4.99   \n4  0_1483 2021-09-19 08:45:43.735331    s_92165    c_1609   m   1980   4.99   \n\n   categ  \n0      0  \n1      0  \n2      0  \n3      0  \n4      0  ",
      "text/html": "<div>\n<style scoped>\n    .dataframe tbody tr th:only-of-type {\n        vertical-align: middle;\n    }\n\n    .dataframe tbody tr th {\n        vertical-align: top;\n    }\n\n    .dataframe thead th {\n        text-align: right;\n    }\n</style>\n<table border=\"1\" class=\"dataframe\">\n  <thead>\n    <tr style=\"text-align: right;\">\n      <th></th>\n      <th>id_prod</th>\n      <th>date</th>\n      <th>session_id</th>\n      <th>client_id</th>\n      <th>sex</th>\n      <th>birth</th>\n      <th>price</th>\n      <th>categ</th>\n    </tr>\n  </thead>\n  <tbody>\n    <tr>\n      <th>0</th>\n      <td>0_1483</td>\n      <td>2021-04-10 18:37:28.723910</td>\n      <td>s_18746</td>\n      <td>c_4450</td>\n      <td>f</td>\n      <td>1977</td>\n      <td>4.99</td>\n      <td>0</td>\n    </tr>\n    <tr>\n      <th>1</th>\n      <td>0_1483</td>\n      <td>2021-12-27 11:11:12.123067</td>\n      <td>s_140787</td>\n      <td>c_5433</td>\n      <td>f</td>\n      <td>1981</td>\n      <td>4.99</td>\n      <td>0</td>\n    </tr>\n    <tr>\n      <th>2</th>\n      <td>0_1483</td>\n      <td>2021-10-27 04:56:38.293970</td>\n      <td>s_110736</td>\n      <td>c_857</td>\n      <td>m</td>\n      <td>1985</td>\n      <td>4.99</td>\n      <td>0</td>\n    </tr>\n    <tr>\n      <th>3</th>\n      <td>0_1483</td>\n      <td>2021-07-04 06:43:45.676567</td>\n      <td>s_57626</td>\n      <td>c_3679</td>\n      <td>f</td>\n      <td>1989</td>\n      <td>4.99</td>\n      <td>0</td>\n    </tr>\n    <tr>\n      <th>4</th>\n      <td>0_1483</td>\n      <td>2021-09-19 08:45:43.735331</td>\n      <td>s_92165</td>\n      <td>c_1609</td>\n      <td>m</td>\n      <td>1980</td>\n      <td>4.99</td>\n      <td>0</td>\n    </tr>\n  </tbody>\n</table>\n</div>"
     },
     "execution_count": 75,
     "metadata": {},
     "output_type": "execute_result"
    }
   ],
   "source": [
    "#make sure the data folder exist.\n",
    "dat_dir = \"./data\"\n",
    "if not os.path.exists(dat_dir):\n",
    "    os.mkdir(dir)\n",
    "\n",
    "dat_dir = \"./data\"\n",
    "if not os.path.exists(dat_dir):\n",
    "    os.mkdir(dir)\n",
    "\n",
    "compression_opts = dict(method='zip', archive_name='data.csv')\n",
    "data.to_csv('./data/clean_data.zip', index=False, compression=compression_opts)\n",
    "\n",
    "data.head()\n"
   ],
   "metadata": {
    "collapsed": false,
    "pycharm": {
     "name": "#%%\n"
    }
   }
  }
 ],
 "metadata": {
  "kernelspec": {
   "display_name": "Python 3",
   "language": "python",
   "name": "python3"
  },
  "language_info": {
   "codemirror_mode": {
    "name": "ipython",
    "version": 2
   },
   "file_extension": ".py",
   "mimetype": "text/x-python",
   "name": "python",
   "nbconvert_exporter": "python",
   "pygments_lexer": "ipython2",
   "version": "2.7.6"
  }
 },
 "nbformat": 4,
 "nbformat_minor": 0
}